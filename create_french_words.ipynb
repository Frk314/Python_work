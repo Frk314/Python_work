{
  "nbformat": 4,
  "nbformat_minor": 0,
  "metadata": {
    "colab": {
      "provenance": []
    },
    "kernelspec": {
      "name": "python3",
      "display_name": "Python 3"
    },
    "language_info": {
      "name": "python"
    }
  },
  "cells": [
    {
      "cell_type": "code",
      "execution_count": null,
      "metadata": {
        "id": "2XHcnS0CZG5O"
      },
      "outputs": [],
      "source": [
        "import numpy as np\n",
        "import pandas as pd\n",
        "import random as rd"
      ]
    },
    {
      "cell_type": "code",
      "source": [
        "datas_original = pd.read_csv(\"//content//french.txt\")"
      ],
      "metadata": {
        "id": "YK34wPYRZIhP"
      },
      "execution_count": null,
      "outputs": []
    },
    {
      "cell_type": "code",
      "source": [
        "print(datas_original.head())"
      ],
      "metadata": {
        "colab": {
          "base_uri": "https://localhost:8080/"
        },
        "id": "3Yhp1UFnZMmX",
        "outputId": "93bde1ba-9a44-47cf-84b7-f06cd519dab0"
      },
      "execution_count": null,
      "outputs": [
        {
          "output_type": "stream",
          "name": "stdout",
          "text": [
            "            AA\n",
            "0     AALENIEN\n",
            "1   AALENIENNE\n",
            "2  AALENIENNES\n",
            "3    AALENIENS\n",
            "4          AAS\n"
          ]
        }
      ]
    },
    {
      "cell_type": "markdown",
      "source": [
        "We will turn every words to the lower case"
      ],
      "metadata": {
        "id": "f0KhPbjTI-Uc"
      }
    },
    {
      "cell_type": "code",
      "source": [
        "datas_original[\"AA\"] = datas_original[\"AA\"].apply(lambda x: str(x).lower())\n"
      ],
      "metadata": {
        "id": "2HTg0o-YI_ZV"
      },
      "execution_count": null,
      "outputs": []
    },
    {
      "cell_type": "code",
      "source": [
        "datas = datas_original.copy()\n",
        "datas = datas.rename(columns={'AA': 'a'})\n",
        "print(datas.head())"
      ],
      "metadata": {
        "colab": {
          "base_uri": "https://localhost:8080/"
        },
        "id": "fAqitCKqOCL5",
        "outputId": "d8091def-b408-4691-ca0c-25ecae835440"
      },
      "execution_count": null,
      "outputs": [
        {
          "output_type": "stream",
          "name": "stdout",
          "text": [
            "             a\n",
            "0     aalenien\n",
            "1   aalenienne\n",
            "2  aaleniennes\n",
            "3    aaleniens\n",
            "4          aas\n"
          ]
        }
      ]
    },
    {
      "cell_type": "markdown",
      "source": [
        "General informations"
      ],
      "metadata": {
        "id": "E_opRRCaZ5NV"
      }
    },
    {
      "cell_type": "code",
      "source": [
        "print(\"Nombre de datas: {}\".format(len(datas)))"
      ],
      "metadata": {
        "colab": {
          "base_uri": "https://localhost:8080/"
        },
        "id": "63AphKfyZ8Qr",
        "outputId": "0b7e9417-c34d-483c-ec05-362a0ccc98b9"
      },
      "execution_count": null,
      "outputs": [
        {
          "output_type": "stream",
          "name": "stdout",
          "text": [
            "Nombre de datas: 95632\n"
          ]
        }
      ]
    },
    {
      "cell_type": "markdown",
      "source": [
        "We remove words with less than 4 letters"
      ],
      "metadata": {
        "id": "iyHoILBcn7Bi"
      }
    },
    {
      "cell_type": "code",
      "source": [
        " #values va transformer en array\n",
        "l = []\n",
        "for i in datas[\"a\"][:78000]:\n",
        "  if len(str(i)) < 4:\n",
        "    indice = list(datas[\"a\"].values).index(i) #values va transformer en array\n",
        "    l.append(indice)\n",
        "print(l)\n",
        "for i in l:\n",
        "  datas = datas.drop(i)\n",
        "print(len(datas))"
      ],
      "metadata": {
        "colab": {
          "base_uri": "https://localhost:8080/"
        },
        "id": "YHuA96uhn6gc",
        "outputId": "c1e36332-bee8-4a64-e327-9a3e62de0d81"
      },
      "execution_count": null,
      "outputs": [
        {
          "output_type": "stream",
          "name": "stdout",
          "text": [
            "[4, 3731, 5064, 5765, 8255, 8346, 8632, 9529, 9642, 9680, 9724, 9985, 10136, 10188, 10204, 10891, 12499, 13335, 13796, 14864, 14865, 15467, 16057, 16949, 18414, 20506, 20853, 21261, 22643, 22677, 22939, 22940, 23037, 26421, 28342, 28632, 29431, 29446, 29551, 29560, 29767, 29908, 30698, 30725, 31040, 31813, 32415, 33534, 33987, 34418, 34742, 34743, 34846, 35167, 35349, 35533, 35827, 36444, 36470, 36680, 37756, 38065, 38237, 38655, 39547, 40370, 40372, 40547, 40548, 40788, 40942, 41352, 41851, 44222, 44266, 47256, 47741, 47953, 48017, 48250, 48493, 48604, 48844, 48868, 48871, 49850, 50489, 53386, 54348, 56224, 57865, 58659, 59003, 59119, 65405, 65571, 65756, 65783, 66428, 67915, 69441, 70686, 70965, 72050, 74524]\n",
            "95527\n"
          ]
        }
      ]
    },
    {
      "cell_type": "markdown",
      "source": [
        "On ne recupere que les indices restants"
      ],
      "metadata": {
        "id": "Xrm3BKLd9_Q0"
      }
    },
    {
      "cell_type": "code",
      "source": [
        "list_indices = datas.index[:]\n"
      ],
      "metadata": {
        "id": "v1xuvBko97C6"
      },
      "execution_count": null,
      "outputs": []
    },
    {
      "cell_type": "code",
      "source": [
        "len(list_indices)"
      ],
      "metadata": {
        "colab": {
          "base_uri": "https://localhost:8080/"
        },
        "id": "zqzMGx3oS1_W",
        "outputId": "b0da851f-cca4-428b-a8fc-60cc99229517"
      },
      "execution_count": null,
      "outputs": [
        {
          "output_type": "execute_result",
          "data": {
            "text/plain": [
              "95527"
            ]
          },
          "metadata": {},
          "execution_count": 10
        }
      ]
    },
    {
      "cell_type": "code",
      "source": [
        "print(datas.head())\n",
        "print(len(datas))"
      ],
      "metadata": {
        "colab": {
          "base_uri": "https://localhost:8080/"
        },
        "id": "q_kIxJQM3X10",
        "outputId": "af630b16-7b5f-484f-bf11-23e337288cb1"
      },
      "execution_count": null,
      "outputs": [
        {
          "output_type": "stream",
          "name": "stdout",
          "text": [
            "             a\n",
            "0     aalenien\n",
            "1   aalenienne\n",
            "2  aaleniennes\n",
            "3    aaleniens\n",
            "5        abaca\n",
            "95527\n"
          ]
        }
      ]
    },
    {
      "cell_type": "markdown",
      "source": [
        "For each letter, we will determine the sequence in which they appear"
      ],
      "metadata": {
        "id": "xCK8ZXe3bQ0K"
      }
    },
    {
      "cell_type": "markdown",
      "source": [
        "Let us create a 26*26 table for it"
      ],
      "metadata": {
        "id": "q_L-Jvscbipv"
      }
    },
    {
      "cell_type": "code",
      "source": [
        "frequence_df = pd.DataFrame(np.zeros((26,26)), columns = [list(\"abcdefghijklmnopqrstuvwxyz\")], index=list(\"abcdefghijklmnopqrstuvwxyz\"))"
      ],
      "metadata": {
        "id": "U9nZcglhapAk"
      },
      "execution_count": null,
      "outputs": []
    },
    {
      "cell_type": "code",
      "source": [
        "datas = datas.rename(columns={'a': 'mots'})"
      ],
      "metadata": {
        "id": "pihW4Sxl9sfQ"
      },
      "execution_count": null,
      "outputs": []
    },
    {
      "cell_type": "markdown",
      "source": [
        "Function to determine the relation between letters"
      ],
      "metadata": {
        "id": "y6fU1P2nBPhb"
      }
    },
    {
      "cell_type": "code",
      "source": [
        "def get_info_single_word(data, indice):\n",
        "  mot =list(datas.loc[indice, \"mots\"])\n",
        "  for i in range(len(mot)-1):\n",
        "    pos1 = list(\"abcdefghijklmnopqrstuvwxyz\").index(mot[i]) #Position de la lettre sur laquelle on se trouve\n",
        "    pos2 = list(\"abcdefghijklmnopqrstuvwxyz\").index(mot[i+1]) #Position de la lettre suivante\n",
        "    frequence[pos1,pos2] = frequence[pos1,pos2] + 1"
      ],
      "metadata": {
        "id": "-722Wv0dd6BD"
      },
      "execution_count": null,
      "outputs": []
    },
    {
      "cell_type": "code",
      "source": [
        "print(list(datas.loc[3, \"mots\"]))\n",
        "frequence = np.zeros((26,26))\n",
        "for indice in list_indices[:77000]:#We test with only 77000 words\n",
        "  get_info_single_word(datas, list_indices[indice])\n"
      ],
      "metadata": {
        "colab": {
          "base_uri": "https://localhost:8080/"
        },
        "id": "qTq07fDABXYy",
        "outputId": "e6e92546-6d59-4efc-c417-46d56effd8aa"
      },
      "execution_count": null,
      "outputs": [
        {
          "output_type": "stream",
          "name": "stdout",
          "text": [
            "['a', 'a', 'l', 'e', 'n', 'i', 'e', 'n', 's']\n"
          ]
        }
      ]
    },
    {
      "cell_type": "markdown",
      "source": [
        "We save everything in a dataframe"
      ],
      "metadata": {
        "id": "k414HUs2VC3a"
      }
    },
    {
      "cell_type": "code",
      "source": [
        "frequence_df = pd.DataFrame(frequence, columns=list(\"abcdefghijklmnopqrstuvwxyz\"), index= list(\"abcdefghijklmnopqrstuvwxyz\") )\n",
        "print(frequence_df.head())"
      ],
      "metadata": {
        "colab": {
          "base_uri": "https://localhost:8080/"
        },
        "id": "uVt7fim3VBGj",
        "outputId": "6ccdf680-f2f2-4bf3-af33-4f4019cb91e8"
      },
      "execution_count": null,
      "outputs": [
        {
          "output_type": "stream",
          "name": "stdout",
          "text": [
            "         a       b       c       d       e       f       g        h        i  \\\n",
            "a     15.0  3517.0  4863.0  2580.0   259.0  2198.0  3373.0    264.0  14526.0   \n",
            "b   6139.0    27.0    40.0    56.0  2412.0     0.0     0.0     47.0   3709.0   \n",
            "c  11234.0    37.0  1781.0    43.0  3683.0     2.0     0.0  10251.0   2886.0   \n",
            "d   1772.0     4.0     0.0    99.0  2855.0     0.0   167.0     68.0   2512.0   \n",
            "e   1228.0   290.0  1265.0   681.0  2972.0   217.0   749.0     73.0    531.0   \n",
            "\n",
            "       j  ...      q        r        s       t       u       v     w      x  \\\n",
            "a  289.0  ...  708.0   8765.0  13788.0  8919.0  3603.0  1881.0  14.0  154.0   \n",
            "b   48.0  ...    0.0   4411.0    287.0     2.0  1506.0     0.0   0.0    0.0   \n",
            "c    0.0  ...  195.0    647.0     63.0  1238.0  1021.0     0.0   0.0    0.0   \n",
            "d  242.0  ...    0.0    684.0    186.0     0.0   362.0    75.0   0.0    0.0   \n",
            "e    7.0  ...  159.0  21906.0  16115.0  3836.0  2646.0   857.0   2.0  281.0   \n",
            "\n",
            "       y       z  \n",
            "a  334.0   308.0  \n",
            "b   60.0     4.0  \n",
            "c   64.0     0.0  \n",
            "d   69.0     2.0  \n",
            "e  129.0  6909.0  \n",
            "\n",
            "[5 rows x 26 columns]\n"
          ]
        }
      ]
    },
    {
      "cell_type": "code",
      "source": [
        "print(frequence_df)"
      ],
      "metadata": {
        "id": "X4KQyGvguPOP"
      },
      "execution_count": null,
      "outputs": []
    },
    {
      "cell_type": "markdown",
      "source": [
        "Pour chaque lettre, determinons celle la probabilite pour les autres de suivre:"
      ],
      "metadata": {
        "id": "PlG3U7opWAJ1"
      }
    },
    {
      "cell_type": "markdown",
      "source": [
        "We turn everything into probability"
      ],
      "metadata": {
        "id": "qr-EZpdtZxlI"
      }
    },
    {
      "cell_type": "code",
      "source": [
        "frequence = frequence/frequence.sum()\n",
        "for i in range(len(frequence[1][:])):\n",
        "  frequence[i,:] = frequence[i,:]/frequence[i,:].sum()#On regroupe par ligne car c'est dans cet ordre qu'on a rempli\n",
        "  #le dataset: celui qui suit est en colonne\n",
        "print(frequence)"
      ],
      "metadata": {
        "id": "FvDHVXa0WIBV"
      },
      "execution_count": null,
      "outputs": []
    },
    {
      "cell_type": "code",
      "source": [
        "print(frequence[13,19])"
      ],
      "metadata": {
        "colab": {
          "base_uri": "https://localhost:8080/"
        },
        "id": "VigSkaYQNTde",
        "outputId": "f7e27a28-3d39-41f0-8677-e824a9a3a31b"
      },
      "execution_count": null,
      "outputs": [
        {
          "output_type": "stream",
          "name": "stdout",
          "text": [
            "0.28618747309916354\n"
          ]
        }
      ]
    },
    {
      "cell_type": "markdown",
      "source": [
        "Function to generate random letter"
      ],
      "metadata": {
        "id": "fEZiHcIFbly9"
      }
    },
    {
      "cell_type": "code",
      "source": [
        "def generate_random_letter(val,prob):\n",
        "  pool = []\n",
        "  for i in val:\n",
        "    l = list(\"abcdefghijklmnopqrstuvwxyz\")\n",
        "    pool.append(l[i])\n",
        "\n",
        "  random_letter = np.random.choice(pool, p=prob)\n",
        "  return(random_letter)\n"
      ],
      "metadata": {
        "id": "LEGWeIHaZu70"
      },
      "execution_count": null,
      "outputs": []
    },
    {
      "cell_type": "markdown",
      "source": [
        "Function to generate random word"
      ],
      "metadata": {
        "id": "nXXWcEaqo8dx"
      }
    },
    {
      "cell_type": "code",
      "source": [
        "def main_part(first, length):\n",
        "  mot = list(first)\n",
        "  c = 0\n",
        "  for i in range(1,length):\n",
        "\n",
        "    #We take only the best possibilities\n",
        "    indice = \"abcdefghijklmnopqrstuvwxyz\".index(mot[i-1])\n",
        "    possibilities = sorted(frequence[indice,:])[23:26]# we store the index of the 5 letters with the highest probability\n",
        "    high_prob_indexes = []\n",
        "    for poss in possibilities:\n",
        "      high_prob_indexes.append(np.where(frequence[indice,:] == poss)[0][0])\n",
        "    s = sum(possibilities)\n",
        "    for j in range(len(possibilities)):\n",
        "      possibilities[j] = (possibilities[j]/s)# on ramene tt de facon a  avoir une somme qui fait 1\n",
        "\n",
        "    letter = generate_random_letter(high_prob_indexes,possibilities)\n",
        "    mot.append(letter)\n",
        "\n",
        "    #We want to prevent 3 consonnes or vowels in a row:\n",
        "    if (len(mot)) > 2:\n",
        "      while mot[i] in \"bcdfghjklmnpqrstvwxz\" and (mot[i-1] in \"bcdfghjklmnpqrstvwxz\" and mot[i-2] in \"bcdfghjklmnpqrstvwxz\" ):\n",
        "        mot[i] = generate_random_letter(high_prob_indexes,possibilities)\n",
        "      while mot[i] in \"aeiouy\" and (mot[i-1] in \"aeiouy\" and mot[i-2] in \"aeiouy\"):\n",
        "        mot[i] = generate_random_letter(high_prob_indexes, possibilities)\n",
        "\n",
        "  my_string = ''.join(mot)#we create a word from the array\n",
        "  return(my_string)"
      ],
      "metadata": {
        "id": "H2u_PUu-bjsY"
      },
      "execution_count": null,
      "outputs": []
    },
    {
      "cell_type": "markdown",
      "source": [
        "##Final program"
      ],
      "metadata": {
        "id": "Wf4q24S2VRoP"
      }
    },
    {
      "cell_type": "code",
      "source": [
        "from pandas._libs.lib import map_infer_mask\n",
        "n = int(input(\"How many words do you want?\"))\n",
        "dw= int(input(\"Give a range for the length of the words:\\n(low value) \"))\n",
        "hi = int(input(\"Give a range for the length of the words:\\n(high value)\"))\n",
        "first = input(\"Enter the first letter: \")\n",
        "s = np.ones((hi-dw))/(hi-dw)\n",
        "for i in range(n):\n",
        "  length = np.random.choice(range(dw, hi), p = s)\n",
        "  print(main_part(first, length))"
      ],
      "metadata": {
        "colab": {
          "base_uri": "https://localhost:8080/"
        },
        "id": "aEVTy-ITpAVb",
        "outputId": "b0c6be96-f2e7-47d3-c378-708fc628a3a5"
      },
      "execution_count": null,
      "outputs": [
        {
          "output_type": "stream",
          "name": "stdout",
          "text": [
            "How many words do you want?20\n",
            "Give a range for the length of the words:\n",
            "(low value) 4\n",
            "Give a range for the length of the words:\n",
            "(high value)8\n",
            "Enter the first letter: do\n",
            "doamiess\n",
            "doinet\n",
            "doenreen\n",
            "doerraii\n",
            "doines\n",
            "doense\n",
            "doannetn\n",
            "doenn\n",
            "doanne\n",
            "doanses\n",
            "doanses\n",
            "doense\n",
            "doens\n",
            "doamnets\n",
            "doinetsa\n",
            "doanisos\n",
            "doinetni\n",
            "doersees\n",
            "doimopup\n",
            "doinses\n"
          ]
        }
      ]
    }
  ]
}